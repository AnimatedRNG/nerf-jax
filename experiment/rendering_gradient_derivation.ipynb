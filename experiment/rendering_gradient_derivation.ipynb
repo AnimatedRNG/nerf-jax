{
 "cells": [
  {
   "cell_type": "code",
   "execution_count": null,
   "metadata": {},
   "outputs": [],
   "source": [
    "import os\n",
    "import sys\n",
    "\n",
    "module_path = os.path.abspath(os.path.join('..'))\n",
    "if module_path not in sys.path:\n",
    "    sys.path.append(module_path)"
   ]
  },
  {
   "cell_type": "code",
   "execution_count": null,
   "metadata": {},
   "outputs": [],
   "source": [
    "from IPython.display import display\n",
    "from sympy import *\n",
    "\n",
    "init_printing(use_latex='mathjax')"
   ]
  },
  {
   "cell_type": "code",
   "execution_count": null,
   "metadata": {},
   "outputs": [],
   "source": [
    "x_i = symbols('x_i')\n",
    "r_o, r_d = symbols('r_o r_d')\n",
    "sigma = symbols('\\sigma')\n",
    "depths_i0, depths_i, depths_i1 = symbols('depths_{i-1} depths_i depths_{i+1}')\n",
    "\n",
    "gaussian_pdf = lambda x, mu, sigma:\\\n",
    "    (1 / (sigma * sqrt(2 * pi))) * exp(\n",
    "        (-1 / 2) * ((x - mu) / (sigma)) ** 2 \\\n",
    "    )\n",
    "\n",
    "valid_i = symbols('valid_i')\n",
    "\n",
    "pt_i = depths_i * r_d + r_o\n",
    "\n",
    "#phi = gaussian_pdf(sdf(pt_i), 0, sigma)\n",
    "phi_x = symbols('\\phi_x')\n",
    "\n",
    "os_i0 = symbols('os_i0')\n",
    "\n",
    "h_s = depths_i1 - depths_i\n",
    "os_i = valid_i * phi_x * h_s + os_i0"
   ]
  },
  {
   "cell_type": "code",
   "execution_count": null,
   "metadata": {},
   "outputs": [],
   "source": [
    "diff(os_i, depths_i)"
   ]
  },
  {
   "cell_type": "code",
   "execution_count": null,
   "metadata": {},
   "outputs": [],
   "source": [
    "diff(os_i, depths_i1)"
   ]
  },
  {
   "cell_type": "code",
   "execution_count": null,
   "metadata": {},
   "outputs": [],
   "source": [
    "diff(os_i, phi_x)"
   ]
  },
  {
   "cell_type": "code",
   "execution_count": null,
   "metadata": {},
   "outputs": [],
   "source": [
    "vs_i0 = symbols('vs_i0')\n",
    "os_i = symbols('os_i')\n",
    "attr = symbols('I')\n",
    "\n",
    "vs_i = valid_i * phi_x * attr * exp(-1 * os_i) * h_s"
   ]
  },
  {
   "cell_type": "code",
   "execution_count": null,
   "metadata": {},
   "outputs": [],
   "source": [
    "diff(vs_i, os_i)"
   ]
  },
  {
   "cell_type": "code",
   "execution_count": null,
   "metadata": {},
   "outputs": [],
   "source": [
    "diff(vs_i, depths_i)"
   ]
  },
  {
   "cell_type": "code",
   "execution_count": null,
   "metadata": {},
   "outputs": [],
   "source": [
    "diff(vs_i, depths_i1)"
   ]
  },
  {
   "cell_type": "code",
   "execution_count": null,
   "metadata": {},
   "outputs": [],
   "source": [
    "diff(vs_i, phi_x)"
   ]
  },
  {
   "cell_type": "code",
   "execution_count": null,
   "metadata": {},
   "outputs": [],
   "source": [
    "diff(vs_i, attr)"
   ]
  }
 ],
 "metadata": {
  "kernelspec": {
   "display_name": "Python 3",
   "language": "python",
   "name": "python3"
  },
  "language_info": {
   "codemirror_mode": {
    "name": "ipython",
    "version": 3
   },
   "file_extension": ".py",
   "mimetype": "text/x-python",
   "name": "python",
   "nbconvert_exporter": "python",
   "pygments_lexer": "ipython3",
   "version": "3.9.1"
  }
 },
 "nbformat": 4,
 "nbformat_minor": 4
}
